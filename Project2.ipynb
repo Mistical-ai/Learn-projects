{
  "nbformat": 4,
  "nbformat_minor": 0,
  "metadata": {
    "colab": {
      "provenance": [],
      "authorship_tag": "ABX9TyOMaw3DQXh+xw+vaA/VVg4Z",
      "include_colab_link": true
    },
    "kernelspec": {
      "name": "python3",
      "display_name": "Python 3"
    },
    "language_info": {
      "name": "python"
    }
  },
  "cells": [
    {
      "cell_type": "markdown",
      "metadata": {
        "id": "view-in-github",
        "colab_type": "text"
      },
      "source": [
        "<a href=\"https://colab.research.google.com/github/Mistical-ai/Learn-projects/blob/main/Project2.ipynb\" target=\"_parent\"><img src=\"https://colab.research.google.com/assets/colab-badge.svg\" alt=\"Open In Colab\"/></a>"
      ]
    },
    {
      "cell_type": "code",
      "metadata": {
        "collapsed": true,
        "id": "801dc38d"
      },
      "source": [
        "import pandas as pd\n",
        "import os\n",
        "\n",
        "# Assuming the CSV file was uploaded directly to the content directory\n",
        "csv_file_path = \"/kaggle/IoTpond1.csv\"\n",
        "\n",
        "if os.path.exists(csv_file_path):\n",
        "    df = pd.read_csv(csv_file_path)\n",
        "    print(\"\\nDataset loaded successfully from\", csv_file_path)\n",
        "    display(df.head())\n",
        "else:\n",
        "    print(f\"\\nError: The file {csv_file_path} was not found.\")\n",
        "    print(\"Please make sure you have uploaded 'IoTpond1.csv' to the /content/ directory.\")"
      ],
      "execution_count": null,
      "outputs": []
    },
    {
      "cell_type": "code",
      "metadata": {
        "id": "8ec64a95"
      },
      "source": [
        "# Display the column names and their data types\n",
        "print(\"Column information:\")\n",
        "display(df.info())\n",
        "\n",
        "# Display the first 5 rows to see the data format\n",
        "print(\"\\nFirst 5 rows of the dataset:\")\n",
        "display(df.head())\n",
        "\n",
        "# Display basic descriptive statistics for the relevant columns\n",
        "print(\"\\nDescriptive statistics for water quality parameters:\")\n",
        "# Adjust column names if necessary based on df.info() output\n",
        "water_quality_cols = ['Ammonia(g/ml)', 'Nitrate(g/ml)', 'PH', 'Temperature (C)', 'Turbidity(NTU)']\n",
        "try:\n",
        "    display(df[water_quality_cols].describe())\n",
        "except KeyError as e:\n",
        "    print(f\"\\nError: One or more of the specified water quality columns were not found.\")\n",
        "    print(f\"Please check the column names in df.info() output and update the 'water_quality_cols' list.\")\n",
        "    print(f\"Missing column: {e}\")"
      ],
      "execution_count": null,
      "outputs": []
    },
    {
      "cell_type": "code",
      "metadata": {
        "id": "ea36bbac"
      },
      "source": [
        "# Step 1: Convert 'created_at' to datetime objects\n",
        "# The 'created_at' column is currently an object (string), like '2021-06-19 00:00:05 CET'.\n",
        "# For doing any analysis based on time, we need to change its data type to a proper\n",
        "# datetime format that pandas understands.\n",
        "# pd.to_datetime() is used for this conversion.\n",
        "# errors='coerce' tells pandas that if it finds any date it cannot understand,\n",
        "# instead of stopping with an error, it should just put a special value called NaT (Not a Time) there.\n",
        "df['created_at'] = pd.to_datetime(df['created_at'], errors='coerce')\n",
        "\n",
        "print(\"Data type of 'created_at' after conversion:\")\n",
        "display(df['created_at'].dtype)\n",
        "\n",
        "# Check for any NaT values created by coercion\n",
        "# We check if any NaT values were created during the conversion.\n",
        "# .isna() checks for missing or NaT values, and .sum() counts them.\n",
        "print(\"\\nNumber of rows with unparseable 'created_at' dates:\")\n",
        "display(df['created_at'].isna().sum())\n",
        "\n",
        "# Step 2: Handle missing values in 'Ammonia(g/ml)'\n",
        "# From the 'df.info()' output we saw earlier, the 'Ammonia(g/ml)' column\n",
        "# had fewer non-null entries than the total number of rows, meaning it has missing values.\n",
        "# For time-series data like sensor readings, a common way to handle missing values\n",
        "# is 'forward fill'. This means filling a missing value with the last known valid value.\n",
        "# Imagine a sensor temporarily stops reporting; we assume the last reading is still\n",
        "# valid until we get a new one.\n",
        "# fillna() is the pandas function to fill missing values.\n",
        "# method='ffill' specifies the forward fill method.\n",
        "# inplace=True means the changes are made directly to the original DataFrame column.\n",
        "# Note: Future versions of pandas might prefer df['Ammonia(g/ml)'] = df['Ammonia(g/ml)'].ffill()\n",
        "print(\"\\nNumber of missing values in 'Ammonia(g/ml)' BEFORE handling:\")\n",
        "display(df['Ammonia(g/ml)'].isna().sum())\n",
        "\n",
        "df['Ammonia(g/ml)'].fillna(method='ffill', inplace=True)\n",
        "\n",
        "print(\"\\nNumber of missing values in 'Ammonia(g/ml)' AFTER handling:\")\n",
        "display(df['Ammonia(g/ml)'].isna().sum())\n",
        "\n",
        "# Let's also quickly check for missing values in the other main water quality columns\n",
        "# to be sure, although df.info() suggested they were complete.\n",
        "water_quality_cols_check = ['Nitrate(g/ml)', 'PH', 'Temperature (C)', 'Turbidity(NTU)']\n",
        "print(\"\\nNumber of missing values in other water quality columns:\")\n",
        "display(df[water_quality_cols_check].isna().sum())\n",
        "\n",
        "\n",
        "print(\"\\nPreprocessing steps complete for 'created_at' and 'Ammonia(g/ml)'.\")"
      ],
      "execution_count": null,
      "outputs": []
    },
    {
      "cell_type": "code",
      "metadata": {
        "id": "f52c158b"
      },
      "source": [
        "import matplotlib.pyplot as plt\n",
        "import seaborn as sns\n",
        "\n",
        "# Set the 'created_at' column as the index for easier time-series plotting\n",
        "df_indexed = df.set_index('created_at')\n",
        "\n",
        "# Define the water quality columns to plot\n",
        "water_quality_cols_to_plot = ['Temperature (C)', 'Turbidity(NTU)', 'Dissolved Oxygen(g/ml)', 'PH', 'Ammonia(g/ml)', 'Nitrate(g/ml)']\n",
        "\n",
        "# Create subplots for each water quality parameter\n",
        "fig, axes = plt.subplots(len(water_quality_cols_to_plot), 1, figsize=(15, 20), sharex=True)\n",
        "fig.suptitle('Water Quality Parameters Over Time', y=1.02, fontsize=16)\n",
        "\n",
        "# Plot each parameter\n",
        "for i, col in enumerate(water_quality_cols_to_plot):\n",
        "    axes[i].plot(df_indexed.index, df_indexed[col])\n",
        "    axes[i].set_ylabel(col)\n",
        "    axes[i].grid(True)\n",
        "\n",
        "# Improve layout and display the plots\n",
        "plt.tight_layout()\n",
        "plt.show()"
      ],
      "execution_count": null,
      "outputs": []
    },
    {
      "cell_type": "code",
      "metadata": {
        "id": "bcc1a404"
      },
      "source": [
        "# Plot Ammonia levels over time with a safe threshold line\n",
        "plt.figure(figsize=(15, 5))\n",
        "\n",
        "# Plot the Ammonia data\n",
        "plt.plot(df_indexed.index, df_indexed['Ammonia(g/ml)'], label='Ammonia (g/ml)')\n",
        "\n",
        "# Add a horizontal line for a safe ammonia threshold\n",
        "# Note: This is a general threshold; you may need to adjust it based on specific fish species or system requirements.\n",
        "ammonia_threshold = 0.05 # Example threshold in g/ml - adjust as needed\n",
        "plt.axhline(y=ammonia_threshold, color='r', linestyle='--', label=f'Safe Threshold ({ammonia_threshold} g/ml)')\n",
        "\n",
        "plt.xlabel('Time')\n",
        "plt.ylabel('Ammonia (g/ml)')\n",
        "plt.title('Ammonia Levels Over Time with Safe Threshold')\n",
        "plt.legend()\n",
        "plt.grid(True)\n",
        "plt.show()"
      ],
      "execution_count": null,
      "outputs": []
    },
    {
      "cell_type": "markdown",
      "metadata": {
        "id": "100b7eae"
      },
      "source": [
        "## Project Summary: Aquaponics System Water Quality Analysis\n",
        "\n",
        "This project analyzed time-series data from an aquaponics system to assess its operational health and stability by examining key water quality parameters over time.\n",
        "\n",
        "**Key Findings:**\n",
        "\n",
        "*   **Ammonia:** Ammonia levels were generally within the safe threshold for aquatic life, indicating effective biofiltration for most of the monitoring period. However, notable increases around the start and middle of July warrant further investigation as elevated ammonia is toxic to fish.\n",
        "*   **Turbidity:** While most parameters showed relatively stable trends or gradual changes, turbidity (water clarity) exhibited significant, unexplained volatility, particularly towards the end of July and start of August. This suggests periodic events or issues impacting water clarity, which could affect fish health (e.g., gill irritation) and overall system function.\n",
        "*   **Temperature:** Water temperature remained relatively stable throughout the monitoring period, with the exception of a distinct spike and drop in September. Sudden temperature changes can stress fish and impact the biological processes within the system.\n",
        "*   **Dissolved Oxygen (DO):** Dissolved oxygen levels appeared to show a slow decline over the monitored period. Adequate DO is crucial for fish respiration; a downward trend could indicate increasing biological load or insufficient aeration.\n",
        "*   **pH:** The pH level, which indicates water acidity/alkalinity, also showed a noticeable decline, particularly starting around September 10th. Maintaining pH within an optimal range is vital for both fish health and the efficiency of the nitrifying bacteria in the biofilter.\n",
        "*   **Nitrate:** Nitrate levels generally increased slowly over time. This is expected in a functioning aquaponics system as ammonia is converted by beneficial bacteria into nitrate, a key nutrient for plants. While an increase is normal, extremely high levels can still be detrimental to fish.\n",
        "\n",
        "**Conclusion:**\n",
        "\n",
        "The analysis suggests the aquaponics system's biofilter was largely effective in managing ammonia. However, the significant fluctuations in turbidity and the observed trends in dissolved oxygen and pH, along with the temperature anomaly, highlight areas that require closer monitoring and potential intervention to ensure long-term operational health and stability for the aquatic life.\n",
        "\n",
        "**Presenting your project:**\n",
    }
  ]
}
