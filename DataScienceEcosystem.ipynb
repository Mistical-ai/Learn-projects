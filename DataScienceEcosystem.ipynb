{
  "metadata": {
    "kernelspec": {
      "name": "python",
      "display_name": "Python (Pyodide)",
      "language": "python"
    },
    "language_info": {
      "codemirror_mode": {
        "name": "python",
        "version": 3
      },
      "file_extension": ".py",
      "mimetype": "text/x-python",
      "name": "python",
      "nbconvert_exporter": "python",
      "pygments_lexer": "ipython3",
      "version": "3.8"
    }
  },
  "nbformat_minor": 5,
  "nbformat": 4,
  "cells": [
    {
      "id": "b1eda30c-dc80-422f-8b23-a4da2b3d3645",
      "cell_type": "markdown",
      "source": "# Data Science Tools and Ecosystem",
      "metadata": {}
    },
    {
      "id": "5ac13690-eb82-41c1-b343-87b776c7b3f6",
      "cell_type": "markdown",
      "source": "In this notebook, Data Science Tools and Ecosystem are summarized.\n",
      "metadata": {}
    },
    {
      "id": "8b3fce9d-847b-4a09-bdc7-c8f7a14b091c",
      "cell_type": "markdown",
      "source": "Some of the popular languages that Data Scientists use are: \n1. Python\n2. R\n3. SQL\n4. JavaScript",
      "metadata": {}
    },
    {
      "id": "dc202a7f-6af1-40ec-b962-23469e52a5ca",
      "cell_type": "markdown",
      "source": "Some of the commonly used libraries used by Data Scientists include:\n1. Pandas\n2. NumPy\n3. Scikit-learn\n4. Matplotlib\n5. TensorFlow /PyTorch",
      "metadata": {}
    },
    {
      "id": "84f771bb-91a9-4615-8bdd-b0a95de7bfa6",
      "cell_type": "markdown",
      "source": "| Data Science Tools |\n|-----------------------|\n|  Jupyter Notebook  |\n|  RStudio |\n|  VS Code  |",
      "metadata": {}
    },
    {
      "id": "0acc9f51-f5c3-4c69-b79a-e7f709c7904d",
      "cell_type": "markdown",
      "source": "### Below are a few examples of evaluating arithmetic expressions in Python",
      "metadata": {}
    },
    {
      "id": "665e0b9f-9dad-41ae-a7fb-23b73f17ee61",
      "cell_type": "code",
      "source": "#This a simple arithmetic expression to mutiply then add integers\n(3*4)+5",
      "metadata": {
        "trusted": true
      },
      "outputs": [
        {
          "execution_count": 3,
          "output_type": "execute_result",
          "data": {
            "text/plain": "17"
          },
          "metadata": {}
        }
      ],
      "execution_count": 3
    },
    {
      "id": "06cd657c-e8b1-40f8-af08-918f3075cacb",
      "cell_type": "code",
      "source": "# Convert 200 minutes to hours and round to 2 decimal places\nround(200 / 60, 2)",
      "metadata": {
        "trusted": true
      },
      "outputs": [
        {
          "execution_count": 4,
          "output_type": "execute_result",
          "data": {
            "text/plain": "3.33"
          },
          "metadata": {}
        }
      ],
      "execution_count": 4
    },
    {
      "id": "9d44e574-1b3e-40fd-aff4-4412c7abcf04",
      "cell_type": "markdown",
      "source": "**Objectives:**\n\nIn this notebook, we covered the following key concepts:\n- List popular languages for Data Science  \n- Identify commonly used libraries in Data Science  \n- Create and format tables in Markdown  \n- Perform basic arithmetic operations in Python  \n- Convert units (minutes to hours) using Python expressions  ",
      "metadata": {}
    },
    {
      "id": "a52e22ec-baf9-4890-ad88-ea4e2cdbae4c",
      "cell_type": "markdown",
      "source": "## Author\nPranav Shah",
      "metadata": {}
    },
    {
      "id": "91298d57-4d94-44df-9128-890ab9b16782",
      "cell_type": "code",
      "source": "",
      "metadata": {
        "trusted": true
      },
      "outputs": [],
      "execution_count": null
    }
  ]
}